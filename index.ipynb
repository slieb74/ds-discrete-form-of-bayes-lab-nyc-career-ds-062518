{
 "cells": [
  {
   "cell_type": "markdown",
   "metadata": {},
   "source": [
    "# Discrete Form of Bayesian Classification\n",
    "\n",
    "\n",
    "## Problem Description\n",
    "\n",
    "In this lab, we'll learn how to use (Naive) Bayesian Inference with discrete data.  \n",
    "\n",
    "\n",
    "## Objectives\n",
    "* Understand and use each part of Bayes' Theorem, including the **_Prior_**, **_Posterior_**, **_Likelihood_**, and **_Normalization Constant_**.\n",
    "* Apply Bayes' Theorem to make inferences about a dataset containing discrete data.  "
   ]
  },
  {
   "cell_type": "markdown",
   "metadata": {},
   "source": [
    "### Review of Probability Terms\n",
    "\n",
    "Joint Probability:  $ P(A \\cap B)$\n",
    "\n",
    "The probability of two events occuring together.  $ P(A \\cap B)$ equals $ P(B \\cap A)$.\n",
    "\n",
    "Conditional Probability: $P(A \\mid B)$  The probability of event A given event B.\n",
    "\n",
    "Marginal Probability: $P(A)$  The probability of occurrence of the of the single event A. \n",
    "<br>\n",
    "<br>\n",
    "<center>**_Practice Questions: Probability_**</center>\n",
    "\n",
    "| **Customer** |    **1**   |    **2**   |    **3**   |    **4**   |   **5**   |    **6**   |    **7**   |    **8**   |    **9**   |   **10**   |\n",
    "|:--------:|:------:|:------:|:------:|:------:|:-----:|:------:|:------:|:------:|:------:|:------:|\n",
    "|   **Food**   |  Donut |  Donut |  Donut | Muffin | Donut | Muffin |  Donut |  Donut | Muffin |  Donut |\n",
    "|   **Drink**  | Coffee |   Tea  | Coffee |   Tea  |  Tea  | Coffee | Coffee | Coffee |   Tea  | Coffee |\n",
    "\n",
    "\n",
    "Assume this sample is representative of the overall purchasing patterns seen at a coffee shop.  Fill in the following contingency table, and then use it to answer the probability questions below:\n",
    "\n",
    "|        | **Donut** | **Muffin** | **Total** |\n",
    "|:------:|:-----:|:------:|:-----:|\n",
    "| **Coffee** |   5  |   1   |   6  |\n",
    "|   **Tea**  |   2  |   2   |   4  |\n",
    "|  **Total** |   7  |   3   |  10  |  \n",
    "\n",
    "**1.)** The marginal probability of a person ordering a donut.   \n",
    "**Answer:** 0.7\n",
    "\n",
    "**2.)** The joint probability of a person ordering coffee and a donut.  \n",
    "**Answer:**  0.5 \n",
    "\n",
    "**3.)** The joint probability of a person ordering donut and a coffee.  \n",
    "**Answer:**  0.5\n",
    "\n",
    "**4.)** The conditional probability of a person ordering a coffee, given that they have already ordered a donut.    \n",
    "**Answer:**  0.714 \n",
    "\n",
    "**5.)** The conditional probability of a person ordering a donut, given that they have already ordered a coffee.    \n",
    "**Answer:**  0.833 \n"
   ]
  },
  {
   "cell_type": "markdown",
   "metadata": {},
   "source": [
    "### Bayes' Theorem\n",
    "\n",
    "As you noticed in the practice problems above, $P(A \\mid B)$ does not equal $P(B \\mid A)$!  However, if we know $P(A \\mid B)$, we can use **_Bayes' Theorem_** (also called Bayes' Rule) to calculate $P(B \\mid A)$.  \n",
    "\n",
    "Recall that the formula for Bayes' Theorem is:\n",
    "\n",
    "$$ \\LARGE P(A \\mid B) = \\frac{P(B \\mid A) \\, P(A)}{P(B)} $$\n",
    "\n",
    "and that the following vocabulary corresponds to each of the terms in the equation:\n",
    "\n",
    "$P(A \\mid B)$: **_Posterior_**.  The probability we're trying to solve for, given some observation.    \n",
    "\n",
    "$P(B \\mid A)$  **_Likelihood_**.  Also called the **_update_**.  \n",
    "\n",
    "$P(A) $ -- **_Prior_**.  The marginal probability of A.  \n",
    "\n",
    "$P(B) $ -- **_Normalization Constant_**.  The marginal probability of B.  Dividing by this number ensures that our posterior will always be scaled to between 0 and 1. "
   ]
  },
  {
   "cell_type": "markdown",
   "metadata": {},
   "source": [
    "### The Dataset\n",
    "\n",
    "The file `food_and_drink_sales.csv` contains records of 100,000 different customer transactions from a coffee shop, for customers who bought both a food and drink.  The choices are as follows:\n",
    "\n",
    "|  Food  |  Drink |\n",
    "|:------:|:------:|\n",
    "|  donut | coffee |\n",
    "| muffin |   tea  |\n",
    "|  fruit |  water |\n",
    "\n",
    "For the remainder of this lab, we'll use python and Bayes' Theorem to answer the following question: _Given that a customer has ordered a coffee, what is the probability they will order a donut?_\n",
    "\n",
    "In the cell below, import the data from `food_and_drink_sales.csv` into a DataFrame.  "
   ]
  },
  {
   "cell_type": "code",
   "execution_count": 2,
   "metadata": {},
   "outputs": [
    {
     "name": "stdout",
     "output_type": "stream",
     "text": [
      "100000\n"
     ]
    }
   ],
   "source": [
    "import pandas as pd\n",
    "import numpy as np \n",
    "\n",
    "df = pd.read_csv('food_and_drink_sales.csv')\n",
    "print(len(df)) #100000"
   ]
  },
  {
   "cell_type": "markdown",
   "metadata": {},
   "source": [
    "  \n",
    "\n",
    "### A Quick Note on Priors\n",
    "\n",
    "There are two types of priors we can use: **_Informative Priors_** and **_Uninformative Priors_**. \n",
    "\n",
    "An **_Informative Prior_** is a prior you choose, which encompasses information that you want to incorporate in your model.  \n",
    "\n",
    "An **_Uninformative Prior_** is when you you do not have information you want to include as a prior, so you let the data \"speak for itself\".  \n",
    "\n",
    "There are many different ways to determine how to set a prior, but the easiest way to set an uninformative prior is to simply use the **_Marginal Probability_** of the condition in question--that is, the number of times a value occurs in a dataset, divided by the total number of observations in the dataset.  \n",
    "\n",
    "\n",
    "### Calcuating Marginal Probability\n",
    "\n",
    "In the cell below, write a function that takes in a dataset, value, and column name for that value, and return the marginal probability of that value in the dataset."
   ]
  },
  {
   "cell_type": "code",
   "execution_count": 9,
   "metadata": {},
   "outputs": [
    {
     "data": {
      "text/html": [
       "<div>\n",
       "<style scoped>\n",
       "    .dataframe tbody tr th:only-of-type {\n",
       "        vertical-align: middle;\n",
       "    }\n",
       "\n",
       "    .dataframe tbody tr th {\n",
       "        vertical-align: top;\n",
       "    }\n",
       "\n",
       "    .dataframe thead th {\n",
       "        text-align: right;\n",
       "    }\n",
       "</style>\n",
       "<table border=\"1\" class=\"dataframe\">\n",
       "  <thead>\n",
       "    <tr style=\"text-align: right;\">\n",
       "      <th></th>\n",
       "      <th>Drink Sales</th>\n",
       "      <th>Food Sales</th>\n",
       "    </tr>\n",
       "  </thead>\n",
       "  <tbody>\n",
       "    <tr>\n",
       "      <th>0</th>\n",
       "      <td>coffee</td>\n",
       "      <td>donut</td>\n",
       "    </tr>\n",
       "    <tr>\n",
       "      <th>1</th>\n",
       "      <td>coffee</td>\n",
       "      <td>donut</td>\n",
       "    </tr>\n",
       "    <tr>\n",
       "      <th>2</th>\n",
       "      <td>coffee</td>\n",
       "      <td>donut</td>\n",
       "    </tr>\n",
       "    <tr>\n",
       "      <th>3</th>\n",
       "      <td>coffee</td>\n",
       "      <td>donut</td>\n",
       "    </tr>\n",
       "    <tr>\n",
       "      <th>4</th>\n",
       "      <td>water</td>\n",
       "      <td>fruit</td>\n",
       "    </tr>\n",
       "    <tr>\n",
       "      <th>5</th>\n",
       "      <td>tea</td>\n",
       "      <td>donut</td>\n",
       "    </tr>\n",
       "    <tr>\n",
       "      <th>6</th>\n",
       "      <td>coffee</td>\n",
       "      <td>donut</td>\n",
       "    </tr>\n",
       "    <tr>\n",
       "      <th>7</th>\n",
       "      <td>tea</td>\n",
       "      <td>fruit</td>\n",
       "    </tr>\n",
       "    <tr>\n",
       "      <th>8</th>\n",
       "      <td>coffee</td>\n",
       "      <td>donut</td>\n",
       "    </tr>\n",
       "    <tr>\n",
       "      <th>9</th>\n",
       "      <td>water</td>\n",
       "      <td>muffin</td>\n",
       "    </tr>\n",
       "  </tbody>\n",
       "</table>\n",
       "</div>"
      ],
      "text/plain": [
       "  Drink Sales Food Sales\n",
       "0      coffee      donut\n",
       "1      coffee      donut\n",
       "2      coffee      donut\n",
       "3      coffee      donut\n",
       "4       water      fruit\n",
       "5         tea      donut\n",
       "6      coffee      donut\n",
       "7         tea      fruit\n",
       "8      coffee      donut\n",
       "9       water     muffin"
      ]
     },
     "metadata": {},
     "output_type": "display_data"
    },
    {
     "name": "stdout",
     "output_type": "stream",
     "text": [
      "0.7\n"
     ]
    }
   ],
   "source": [
    "def get_marginal_probability(dataset, a, a_col_name):\n",
    "    return sum(dataset[a_col_name]==a)/len(dataset)\n",
    "\n",
    "test_df = df[:10]\n",
    "display(test_df)\n",
    "print(get_marginal_probability(test_df, 'donut', \"Food Sales\")) # 0.7"
   ]
  },
  {
   "cell_type": "markdown",
   "metadata": {},
   "source": [
    "### Calculating the Conditional Probability\n",
    "\n",
    "Complete the function in the cell below.  The function should take in a DataFrame, values for A and B, and the column names for A and B (to make accessing everything a little bit easier). \n",
    "\n",
    "This function should return the conditional probability of A given B. "
   ]
  },
  {
   "cell_type": "code",
   "execution_count": 37,
   "metadata": {},
   "outputs": [
    {
     "name": "stdout",
     "output_type": "stream",
     "text": [
      "The conditional probability of a customer buying a donut, given a purchase of tea is 0.5\n"
     ]
    }
   ],
   "source": [
    "def get_conditional_probability(dataset, a, a_col_name, b, b_col_name):\n",
    "    b_counter = 0\n",
    "    a_b_counter = 0\n",
    "    \n",
    "    for ind,row in dataset.iterrows():\n",
    "        if row[b_col_name]==b:\n",
    "            if row[a_col_name]==a:\n",
    "                a_b_counter +=1\n",
    "            b_counter+=1\n",
    "            \n",
    "    joint_prob = a_b_counter/len(dataset)\n",
    "    conditional_prob = joint_prob/(b_counter/len(dataset))\n",
    "    return conditional_prob\n",
    "\n",
    "get_conditional_probability(test_df, 'donut', 'Food Sales', 'tea', 'Drink Sales') # 0.5\n",
    "print('The conditional probability of a customer buying a donut, given a purchase of tea is {}'.format(get_conditional_probability(test_df, 'donut', 'Food Sales', 'tea', 'Drink Sales')))"
   ]
  },
  {
   "cell_type": "markdown",
   "metadata": {},
   "source": [
    "### Calculating the Normalization Constant\n",
    "\n",
    "The denominator is called the **_Normalization Constant_**.  This is used to scale the value output by Bayes's Theorem to between 0 and 1.  \n",
    "\n",
    "The Normalization Constant is made up of the **_Marginal Probability_** of the observed data.  In practice, this means that the denominator is made up of  $P(B\\mid A) * P(A)$ (the conditional probability of B given A times the prior of A)as we see in the numerator, as well as $P(B \\mid !A) * P(!A)$ (the conditional probability of B given not A, times the prior of not A). \n",
    "\n",
    "Written out long form, it looks like this:\n",
    "\n",
    "$$ \\LARGE P(A \\mid B) = \\frac{P(B \\mid A) \\, P(A)}{P(B \\mid A) * P(A) + P(B \\mid !A) * P(!A)} $$\n",
    "\n",
    "In the cell below, write a function that takes in a dataset and a hypothesis, and returns the normalization constant. The function should also take an optional default parameter called `prior`, that is set to `None` by default.  If this parameter is passed in, it should use this prior in the calculations. If it is `None`, the function should then calculate the priors based on the contents of `dataset`. \n",
    "\n",
    "**_Hint_**: There's a short cut to calculating things $P(B \\mid !A)$. Remember that $ P(B \\mid !A) = 1 - P(B \\mid A) $. Similarly, $P(!A) = 1 - P(A)$."
   ]
  },
  {
   "cell_type": "code",
   "execution_count": 54,
   "metadata": {},
   "outputs": [
    {
     "name": "stdout",
     "output_type": "stream",
     "text": [
      "P(A): 0.7\n",
      "P(!A): 0.30000000000000004\n",
      "P(B|A): 0.8571428571428572\n",
      "P(B|!A): 0.1428571428571428\n"
     ]
    },
    {
     "data": {
      "text/plain": [
       "0.6428571428571428"
      ]
     },
     "execution_count": 54,
     "metadata": {},
     "output_type": "execute_result"
    }
   ],
   "source": [
    "def get_norm_constant(dataset, a, a_col_name, b, b_col_name, prior=None):\n",
    "    if not prior:\n",
    "        prior = get_marginal_probability(dataset,a,a_col_name)\n",
    "        print('P(A):',prior)\n",
    "    else:\n",
    "        prior = prior\n",
    "        print('P(A):',prior)\n",
    "    not_prior = 1-prior\n",
    "    print('P(!A):',not_prior)\n",
    "    p_b_given_a = get_conditional_probability(dataset,b,b_col_name,a,a_col_name)\n",
    "    print('P(B|A):',p_b_given_a)\n",
    "    p_b_given_not_a = 1-p_b_given_a\n",
    "    print('P(B|!A):',p_b_given_not_a)\n",
    "    \n",
    "    norm_constant = p_b_given_a*prior + p_b_given_not_a*not_prior\n",
    "    return norm_constant\n",
    " \n",
    "get_norm_constant(test_df, 'donut', 'Food Sales', 'coffee', 'Drink Sales')"
   ]
  },
  {
   "cell_type": "markdown",
   "metadata": {},
   "source": [
    "```\n",
    "Expected Output:\n",
    "P(A): 0.7\n",
    "P (!A): 0.30000000000000004\n",
    "P(B|A): 0.8571428571428572\n",
    "P(B|!A): 0.1428571428571428\n",
    "0.6428571428571428\n",
    "```\n",
    "\n",
    "### Bringing It All Together: Calculating the Posterior"
   ]
  },
  {
   "cell_type": "code",
   "execution_count": 61,
   "metadata": {},
   "outputs": [
    {
     "name": "stdout",
     "output_type": "stream",
     "text": [
      "P(A): 0.60157\n",
      "P(!A): 0.39842999999999995\n",
      "P(B|A): 0.5999301826886314\n",
      "P(B|!A): 0.4000698173113686\n"
     ]
    },
    {
     "data": {
      "text/plain": [
       "0.6936385291560131"
      ]
     },
     "execution_count": 61,
     "metadata": {},
     "output_type": "execute_result"
    }
   ],
   "source": [
    "def get_posterior(dataset, a, a_col_name, b, b_col_name, prior=None):\n",
    "    if not prior:\n",
    "        prior = get_marginal_probability(dataset, a, a_col_name)\n",
    "    else:\n",
    "        prior = prior\n",
    "    numerator = get_conditional_probability(dataset,b,b_col_name,a,a_col_name) * prior\n",
    "    norm_constant = get_norm_constant(dataset, a, a_col_name, b, b_col_name,prior)\n",
    "    return numerator/norm_constant\n",
    "\n",
    "a = 'donut'\n",
    "a_col_name = 'Food Sales'\n",
    "b = 'coffee'\n",
    "b_col_name = \"Drink Sales\"\n",
    "\n",
    "get_posterior(df, a, a_col_name, b, b_col_name)"
   ]
  },
  {
   "cell_type": "markdown",
   "metadata": {},
   "source": [
    "```\n",
    "Expected Output:\n",
    "P(A): 0.60157\n",
    "P (!A): 0.39842999999999995\n",
    "P(B|A): 0.5999301826886314\n",
    "P(B|!A): 0.4000698173113686\n",
    "0.6936385291560131\n",
    "```\n",
    "\n",
    "### Interpreting our Results\n",
    "\n",
    "Given the results from the cell above, answer the following question:\n",
    "\n",
    "A customer has ordered a coffee.  What is the probability that they will also order a donut?\n",
    "\n",
    "**_Answer:_** 0.6936\n",
    "\n",
    "### How to Use Bayes' Theorem For Inference\n",
    "\n",
    "Bayes' Theorem can most easily be used for classification by setting a threshold for the probabilty, and assuming that the answer is true if the probability is greater than our threshold.  \n",
    "\n",
    "Bayes' Theorem is most powerful when used iteratively, where the posterior for a given round becomes our prior for the next round.  For instance, let's say our company opens a new coffee shop in another town, and that shop does not have much data yet.  Purchasing habits may be different in that part of town, but we won't know until we have a sufficient amount of data to compare the two.  To use Bayesian Inference to make predictions with a smaller dataset from the new store, we can incorporate **_Informative Priors_** calculated as posteriors from the dataset at our main store.  In this way, if we wanted to know the probability of a customer at the new store buying a donut given that they have ordered a coffee, we can use the code we've written on the new dataset, but with $P(A) = 0.6936385$.\n",
    "\n",
    "# Conclusion\n",
    "\n",
    "In this lab, we learned:\n",
    "* How to use a table of data to calculate the **_Prior_**\n",
    "* How to use a table of data to calculate the **_Likelihood_**\n",
    "* How to use a table of data to calculate the **_Normalization Constant_**\n",
    "* How to calculate the **_Posterior_** for a dataset of discrete data using Bayes' Theorem."
   ]
  },
  {
   "cell_type": "code",
   "execution_count": null,
   "metadata": {},
   "outputs": [],
   "source": []
  }
 ],
 "metadata": {
  "kernelspec": {
   "display_name": "Python 3",
   "language": "python",
   "name": "python3"
  },
  "language_info": {
   "codemirror_mode": {
    "name": "ipython",
    "version": 3
   },
   "file_extension": ".py",
   "mimetype": "text/x-python",
   "name": "python",
   "nbconvert_exporter": "python",
   "pygments_lexer": "ipython3",
   "version": "3.6.5"
  }
 },
 "nbformat": 4,
 "nbformat_minor": 2
}
